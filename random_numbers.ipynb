{
 "cells": [
  {
   "cell_type": "code",
   "execution_count": 1,
   "id": "6299eb21",
   "metadata": {},
   "outputs": [],
   "source": [
    "import random"
   ]
  },
  {
   "cell_type": "code",
   "execution_count": 3,
   "id": "df465417",
   "metadata": {},
   "outputs": [
    {
     "data": {
      "text/plain": [
       "6"
      ]
     },
     "execution_count": 3,
     "metadata": {},
     "output_type": "execute_result"
    }
   ],
   "source": [
    "random.randint(-90,90)"
   ]
  },
  {
   "cell_type": "code",
   "execution_count": 2,
   "id": "cf441dea",
   "metadata": {},
   "outputs": [
    {
     "data": {
      "text/plain": [
       "0.9173260229293186"
      ]
     },
     "execution_count": 2,
     "metadata": {},
     "output_type": "execute_result"
    }
   ],
   "source": [
    "random.random()"
   ]
  },
  {
   "cell_type": "code",
   "execution_count": 5,
   "id": "0db156be",
   "metadata": {},
   "outputs": [
    {
     "data": {
      "text/plain": [
       "-59.82159008107257"
      ]
     },
     "execution_count": 5,
     "metadata": {},
     "output_type": "execute_result"
    }
   ],
   "source": [
    "random_number=random.randint(-90,89) + random.random()\n",
    "random_number"
   ]
  },
  {
   "cell_type": "code",
   "execution_count": 7,
   "id": "50cf7278",
   "metadata": {},
   "outputs": [
    {
     "data": {
      "text/plain": [
       "[75.55966120686247,\n",
       " 32.04295341413302,\n",
       " -19.949634687625945,\n",
       " -72.33805355257745,\n",
       " -87.6263020463859,\n",
       " 51.79837486968042,\n",
       " -56.23662017739149,\n",
       " 15.260729296906176,\n",
       " -12.965131994813744,\n",
       " -80.51266658632608]"
      ]
     },
     "execution_count": 7,
     "metadata": {},
     "output_type": "execute_result"
    }
   ],
   "source": [
    "x=1\n",
    "latitudes=[]\n",
    "while x<11:\n",
    "    random_lat=random.randint(-90,89) + random.random()\n",
    "    latitudes.append(random_lat)\n",
    "    x+= 1\n",
    "    \n",
    "latitudes"
   ]
  },
  {
   "cell_type": "code",
   "execution_count": 8,
   "id": "51356780",
   "metadata": {
    "scrolled": true
   },
   "outputs": [
    {
     "data": {
      "text/plain": [
       "-12"
      ]
     },
     "execution_count": 8,
     "metadata": {},
     "output_type": "execute_result"
    }
   ],
   "source": [
    "#randrange()function\n",
    "random.randrange(-90,90, step=1)\n"
   ]
  },
  {
   "cell_type": "code",
   "execution_count": 9,
   "id": "4bc0d960",
   "metadata": {
    "scrolled": true
   },
   "outputs": [
    {
     "data": {
      "text/plain": [
       "51"
      ]
     },
     "execution_count": 9,
     "metadata": {},
     "output_type": "execute_result"
    }
   ],
   "source": [
    "random.randrange(-90,90,step=3)"
   ]
  },
  {
   "cell_type": "code",
   "execution_count": 10,
   "id": "6d6ff401",
   "metadata": {},
   "outputs": [
    {
     "data": {
      "text/plain": [
       "-75.18757328675902"
      ]
     },
     "execution_count": 10,
     "metadata": {},
     "output_type": "execute_result"
    }
   ],
   "source": [
    "#test uniform function\n",
    "random.uniform(-90,90)"
   ]
  },
  {
   "cell_type": "code",
   "execution_count": 11,
   "id": "5b92ef1e",
   "metadata": {},
   "outputs": [],
   "source": [
    "#import the numpy module.\n",
    "import numpy as np"
   ]
  },
  {
   "cell_type": "code",
   "execution_count": 12,
   "id": "e67be21e",
   "metadata": {},
   "outputs": [
    {
     "data": {
      "text/plain": [
       "-83.82511595879313"
      ]
     },
     "execution_count": 12,
     "metadata": {},
     "output_type": "execute_result"
    }
   ],
   "source": [
    "np.random.uniform(-90.000,90.000)"
   ]
  },
  {
   "cell_type": "code",
   "execution_count": 13,
   "id": "d47fda21",
   "metadata": {},
   "outputs": [
    {
     "data": {
      "text/plain": [
       "array([-68.2331705 ,  78.54172087, -68.52965743, -53.71703138,\n",
       "        36.45584103, -60.28314057,  85.46976418,  30.38557703,\n",
       "       -77.50735502, -88.7686773 ,  21.26405499,  57.72336821,\n",
       "        68.50242225, -11.33975319,  -8.60904919,  76.43337788,\n",
       "       -66.05390621, -10.66516737, -81.9543832 ,  74.65810225,\n",
       "       -74.47526511, -45.39917841, -57.22114074, -44.0992269 ,\n",
       "        60.5044394 ,  42.30757049, -48.17863121, -45.61145009,\n",
       "       -31.25102598,   5.57666516, -69.25666348,  55.49758229,\n",
       "        51.82934994,   0.17116047, -37.71634358, -20.20085205,\n",
       "        15.01245751,  54.91859822,  63.51400699, -44.2727239 ,\n",
       "        86.77383977,  10.78440378, -70.51205472,  36.11470557,\n",
       "       -79.68664242, -57.23518384,  46.09676222,  27.26788061,\n",
       "       -34.21719867,   6.31280828])"
      ]
     },
     "execution_count": 13,
     "metadata": {},
     "output_type": "execute_result"
    }
   ],
   "source": [
    "np.random.uniform(-90.000,90.000,size=50)"
   ]
  },
  {
   "cell_type": "code",
   "execution_count": 14,
   "id": "7765427b",
   "metadata": {},
   "outputs": [
    {
     "name": "stdout",
     "output_type": "stream",
     "text": [
      "33.6 µs ± 8.43 µs per loop (mean ± std. dev. of 7 runs, 10000 loops each)\n"
     ]
    }
   ],
   "source": [
    "#measure how long the code run.\n",
    "import timeit\n",
    "%timeit np.random.uniform(-90.000,90.000,size=1500)"
   ]
  },
  {
   "cell_type": "code",
   "execution_count": 17,
   "id": "b3bb7b15",
   "metadata": {},
   "outputs": [
    {
     "name": "stdout",
     "output_type": "stream",
     "text": [
      "4.28 ms ± 1.03 ms per loop (mean ± std. dev. of 7 runs, 100 loops each)\n"
     ]
    }
   ],
   "source": [
    "#compare using while loop run time.\n",
    "def latitudes(size):\n",
    "    latitudes=[]\n",
    "    x=0\n",
    "    while x < (size):\n",
    "        random_lat= random.randint(-90,90) + random.random()\n",
    "        latitudes.append(random_lat)\n",
    "        x +=1\n",
    "    return latitudes\n",
    "\n",
    "# call the fundtion 1500.\n",
    "%timeit latitudes(1500)"
   ]
  }
 ],
 "metadata": {
  "kernelspec": {
   "display_name": "PythonData",
   "language": "python",
   "name": "pythondata"
  },
  "language_info": {
   "codemirror_mode": {
    "name": "ipython",
    "version": 3
   },
   "file_extension": ".py",
   "mimetype": "text/x-python",
   "name": "python",
   "nbconvert_exporter": "python",
   "pygments_lexer": "ipython3",
   "version": "3.7.11"
  }
 },
 "nbformat": 4,
 "nbformat_minor": 5
}
