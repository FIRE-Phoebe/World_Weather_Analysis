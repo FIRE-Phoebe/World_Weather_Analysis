{
 "cells": [
  {
   "cell_type": "code",
   "execution_count": null,
   "id": "2e82c884",
   "metadata": {},
   "outputs": [],
   "source": [
    "import pandas as pd\n",
    "import matplotlib.pyplot as plt\n",
    "import numpy as np\n",
    "from citipy import citipy\n",
    "import requests\n",
    "from config import weather_api_key\n",
    "import time\n",
    "from datetime import datetime"
   ]
  },
  {
   "cell_type": "code",
   "execution_count": null,
   "id": "3334af61",
   "metadata": {},
   "outputs": [],
   "source": [
    "lats=np.random.uniform(-90,90,size=2000)\n",
    "lngs=np.random.uniform(-180,180,size=2000)\n",
    "lat_lngs=zip(lats,lngs)\n",
    "lat_lngs"
   ]
  },
  {
   "cell_type": "code",
   "execution_count": null,
   "id": "b4aca701",
   "metadata": {},
   "outputs": [],
   "source": [
    "coordinates=list(lat_lngs)"
   ]
  },
  {
   "cell_type": "code",
   "execution_count": null,
   "id": "5501f31e",
   "metadata": {},
   "outputs": [],
   "source": [
    "cities=[]\n",
    "for coordinate in coordinates:\n",
    "    city=citipy.nearest_city(coordinate[0],coordinate[1]).city_name\n",
    "    \n",
    "    if city not in cities:\n",
    "        cities.append(city)\n",
    "len(cities)"
   ]
  },
  {
   "cell_type": "code",
   "execution_count": null,
   "id": "7eba444e",
   "metadata": {},
   "outputs": [],
   "source": [
    "#perform\n",
    "url=\"http://api.openweathermap.org/data/2.5/weather?units=Imperial&APPID=\" + weather_api_key\n"
   ]
  },
  {
   "cell_type": "code",
   "execution_count": null,
   "id": "cd5d6d6d",
   "metadata": {},
   "outputs": [],
   "source": [
    "city_data=[]\n",
    "print('Beginning Data Retrieval      ')\n",
    "print('------------------------------')\n",
    "\n",
    "record_count=1\n",
    "set_count=1\n",
    "\n",
    "for i, city in enumerate(cities):\n",
    "    if (i%50==0 and i>=50):\n",
    "        set_count+=1\n",
    "        record_count=1\n",
    "        time.sleep(60)\n",
    "        \n",
    "    city_url=url + '&q=' + city.replace(' ','+')\n",
    "    \n",
    "    print(f'Processing Record {record_count} of Set {set_count} | {city}')\n",
    "    record_count+=1\n",
    "    \n",
    "    try:\n",
    "        city_weather=requests.get(city_url).json()\n",
    "        city_lat = city_weather[\"coord\"][\"lat\"]\n",
    "        city_lng = city_weather[\"coord\"][\"lon\"]\n",
    "        city_max_temp = city_weather[\"main\"][\"temp_max\"]\n",
    "        city_humidity = city_weather[\"main\"][\"humidity\"]\n",
    "        city_clouds = city_weather[\"clouds\"][\"all\"]\n",
    "        city_wind = city_weather[\"wind\"][\"speed\"]\n",
    "        city_country = city_weather[\"sys\"][\"country\"]\n",
    "        weather_description=city_weather['weather']['description']\n",
    "        # Append the city information into city_data list.\n",
    "        city_data.append({\"City\": city.title(),\n",
    "                          \"Country\": city_country,\n",
    "                          \"Lat\": city_lat,\n",
    "                          \"Lng\": city_lng,\n",
    "                          \"Max Temp\": city_max_temp,\n",
    "                          \"Humidity\": city_humidity,\n",
    "                          \"Cloudiness\": city_clouds,\n",
    "                          \"Wind Speed\": city_wind,\n",
    "                         \"Current Description\":weather_description})\n",
    "        \n",
    "    except:\n",
    "            print('City not found. Skipping...')\n",
    "            pass\n",
    "        \n",
    "        \n",
    "print('----------------------------')\n",
    "print('Data Retrieval Complete     ')\n",
    "print('----------------------------')"
   ]
  },
  {
   "cell_type": "code",
   "execution_count": null,
   "id": "ce6cc114",
   "metadata": {},
   "outputs": [],
   "source": [
    "len(city_data)"
   ]
  },
  {
   "cell_type": "code",
   "execution_count": null,
   "id": "301ed995",
   "metadata": {},
   "outputs": [],
   "source": [
    "# Convert the array of dictionaries to a Pandas DataFrame.\n",
    "city_df = pd.DataFrame(city_data)\n",
    "city_df.head()"
   ]
  },
  {
   "cell_type": "code",
   "execution_count": null,
   "id": "5c2f7db4",
   "metadata": {},
   "outputs": [],
   "source": [
    "# Create the output file (CSV).\n",
    "output_data_file = \"Weather_Database/WeatherPy_Database.csv\"\n",
    "# Export the City_Data into a CSV.\n",
    "city_df.to_csv(output_data_file, index_label=\"City_ID\")"
   ]
  }
 ],
 "metadata": {
  "kernelspec": {
   "display_name": "PythonData",
   "language": "python",
   "name": "pythondata"
  },
  "language_info": {
   "codemirror_mode": {
    "name": "ipython",
    "version": 3
   },
   "file_extension": ".py",
   "mimetype": "text/x-python",
   "name": "python",
   "nbconvert_exporter": "python",
   "pygments_lexer": "ipython3",
   "version": "3.7.11"
  }
 },
 "nbformat": 4,
 "nbformat_minor": 5
}
